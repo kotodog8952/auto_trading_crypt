{
 "cells": [
  {
   "cell_type": "code",
   "execution_count": 1,
   "metadata": {},
   "outputs": [
    {
     "ename": "RuntimeError",
     "evalue": "asyncio.run() cannot be called from a running event loop",
     "output_type": "error",
     "traceback": [
      "\u001b[0;31m---------------------------------------------------------------------------\u001b[0m",
      "\u001b[0;31mRuntimeError\u001b[0m                              Traceback (most recent call last)",
      "Cell \u001b[0;32mIn[1], line 21\u001b[0m\n\u001b[1;32m     18\u001b[0m         \u001b[38;5;28mprint\u001b[39m(\u001b[38;5;124mf\u001b[39m\u001b[38;5;124m'\u001b[39m\u001b[38;5;124mURL: \u001b[39m\u001b[38;5;132;01m{\u001b[39;00murl\u001b[38;5;132;01m}\u001b[39;00m\u001b[38;5;124m, Content Length: \u001b[39m\u001b[38;5;132;01m{\u001b[39;00m\u001b[38;5;28mlen\u001b[39m(content)\u001b[38;5;132;01m}\u001b[39;00m\u001b[38;5;124m'\u001b[39m)\n\u001b[1;32m     20\u001b[0m \u001b[38;5;28;01mif\u001b[39;00m \u001b[38;5;18m__name__\u001b[39m \u001b[38;5;241m==\u001b[39m \u001b[38;5;124m\"\u001b[39m\u001b[38;5;124m__main__\u001b[39m\u001b[38;5;124m\"\u001b[39m:\n\u001b[0;32m---> 21\u001b[0m     \u001b[43masyncio\u001b[49m\u001b[38;5;241;43m.\u001b[39;49m\u001b[43mrun\u001b[49m\u001b[43m(\u001b[49m\u001b[43mmain\u001b[49m\u001b[43m(\u001b[49m\u001b[43m)\u001b[49m\u001b[43m)\u001b[49m\n",
      "File \u001b[0;32m/usr/local/lib/python3.11/asyncio/runners.py:186\u001b[0m, in \u001b[0;36mrun\u001b[0;34m(main, debug)\u001b[0m\n\u001b[1;32m    161\u001b[0m \u001b[38;5;250m\u001b[39m\u001b[38;5;124;03m\"\"\"Execute the coroutine and return the result.\u001b[39;00m\n\u001b[1;32m    162\u001b[0m \n\u001b[1;32m    163\u001b[0m \u001b[38;5;124;03mThis function runs the passed coroutine, taking care of\u001b[39;00m\n\u001b[0;32m   (...)\u001b[0m\n\u001b[1;32m    182\u001b[0m \u001b[38;5;124;03m    asyncio.run(main())\u001b[39;00m\n\u001b[1;32m    183\u001b[0m \u001b[38;5;124;03m\"\"\"\u001b[39;00m\n\u001b[1;32m    184\u001b[0m \u001b[38;5;28;01mif\u001b[39;00m events\u001b[38;5;241m.\u001b[39m_get_running_loop() \u001b[38;5;129;01mis\u001b[39;00m \u001b[38;5;129;01mnot\u001b[39;00m \u001b[38;5;28;01mNone\u001b[39;00m:\n\u001b[1;32m    185\u001b[0m     \u001b[38;5;66;03m# fail fast with short traceback\u001b[39;00m\n\u001b[0;32m--> 186\u001b[0m     \u001b[38;5;28;01mraise\u001b[39;00m \u001b[38;5;167;01mRuntimeError\u001b[39;00m(\n\u001b[1;32m    187\u001b[0m         \u001b[38;5;124m\"\u001b[39m\u001b[38;5;124masyncio.run() cannot be called from a running event loop\u001b[39m\u001b[38;5;124m\"\u001b[39m)\n\u001b[1;32m    189\u001b[0m \u001b[38;5;28;01mwith\u001b[39;00m Runner(debug\u001b[38;5;241m=\u001b[39mdebug) \u001b[38;5;28;01mas\u001b[39;00m runner:\n\u001b[1;32m    190\u001b[0m     \u001b[38;5;28;01mreturn\u001b[39;00m runner\u001b[38;5;241m.\u001b[39mrun(main)\n",
      "\u001b[0;31mRuntimeError\u001b[0m: asyncio.run() cannot be called from a running event loop"
     ]
    }
   ],
   "source": [
    "import asyncio\n",
    "import aiohttp\n",
    "\n",
    "async def fetch_url(url):\n",
    "    async with aiohttp.ClientSession() as session:\n",
    "        async with session.get(url) as response:\n",
    "            return await response.text()\n",
    "\n",
    "async def main():\n",
    "    urls = ['https://example.com', 'https://www.google.com', 'https://www.python.org']\n",
    "    \n",
    "    tasks = [fetch_url(url) for url in urls]\n",
    "    \n",
    "    # 複数の非同期タスクを実行\n",
    "    responses = await asyncio.gather(*tasks)\n",
    "    \n",
    "    for url, content in zip(urls, responses):\n",
    "        print(f'URL: {url}, Content Length: {len(content)}')\n",
    "\n",
    "if __name__ == \"__main__\":\n",
    "    asyncio.run(main())\n"
   ]
  },
  {
   "cell_type": "code",
   "execution_count": 3,
   "metadata": {},
   "outputs": [],
   "source": [
    "import pandas as pd\n",
    "import pybotters\n",
    "from datetime import timedelta\n",
    "\n",
    "class DataFetcher:\n",
    "    def __init__(self, start_date, end_date, symbol, interval, limit):\n",
    "        self.start_date = start_date\n",
    "        self.end_date = end_date\n",
    "        self.symbol = symbol\n",
    "        self.interval = interval\n",
    "        self.limit = limit\n",
    "\n",
    "    async def get_data(self) -> pd.DataFrame:\n",
    "        df = pd.DataFrame()\n",
    "        current_date = self.start_date\n",
    "\n",
    "        async with pybotters.Client() as client:\n",
    "            while current_date < self.end_date:\n",
    "                params = {\n",
    "                    'symbol': self.symbol,\n",
    "                    'interval': self.interval,\n",
    "                    'from': int(current_date.timestamp()),\n",
    "                    'limit': self.limit\n",
    "                }\n",
    "                response = await client.get('https://api.bybit.com/v2/public/kline/list', params=params)\n",
    "                data = await response.json()\n",
    "                temp_df = pd.DataFrame(data['result'])\n",
    "                temp_df['opentime'] = pd.to_datetime(temp_df['open_time'], unit='s')\n",
    "                temp_df.set_index('opentime', inplace=True)\n",
    "                temp_df.index = pd.to_datetime(temp_df.index, format='%Y-%m-%d')\n",
    "                temp_df['open'] = temp_df['open'].astype(float)\n",
    "                temp_df['high'] = temp_df['high'].astype(float)\n",
    "                temp_df['low'] = temp_df['low'].astype(float)\n",
    "                temp_df['close'] = temp_df['close'].astype(float)\n",
    "                temp_df['volume'] = temp_df['volume'].astype(float)\n",
    "                df = pd.concat([df, temp_df])\n",
    "                current_date = df.index[-1] + timedelta(minutes=15)\n",
    "\n",
    "        df.columns = ['symbol', 'interval', 'open_time', 'open', 'high', 'low', 'close', 'volume', 'turnover']\n",
    "        df = df[self.start_date:self.end_date]\n",
    "        return df\n"
   ]
  },
  {
   "cell_type": "code",
   "execution_count": 7,
   "metadata": {},
   "outputs": [
    {
     "ename": "SyntaxError",
     "evalue": "invalid syntax (2233748613.py, line 1)",
     "output_type": "error",
     "traceback": [
      "\u001b[0;36m  Cell \u001b[0;32mIn[7], line 1\u001b[0;36m\u001b[0m\n\u001b[0;31m    from datetime import datetimeimport asyncio\u001b[0m\n\u001b[0m                                        ^\u001b[0m\n\u001b[0;31mSyntaxError\u001b[0m\u001b[0;31m:\u001b[0m invalid syntax\n"
     ]
    }
   ],
   "source": [
    "from datetime import datetime\n",
    "import asyncio\n",
    "\n",
    "async def main():\n",
    "    # データ取得のパラメータを設定\n",
    "    start_date = datetime(2022, 1, 1)  # 2022年1月1日から開始\n",
    "    end_date = datetime(2022, 1, 31)   # 2022年1月31日まで\n",
    "    symbol = 'BTCUSD'                  # ビットコイン/USDの市場データを取得\n",
    "    interval = '60'                    # 1時間ごとのデータ\n",
    "    limit = 200                        # 一度に取得するデータの最大数\n",
    "    dl = DataFetcher(start_date, end_date, symbol, interval, limit)\n",
    "    df = await dl.get_data()\n",
    "    print(df)\n",
    "\n",
    "# 非同期イベントループを開始し、main関数を実行\n",
    "asyncio.run(main())\n"
   ]
  },
  {
   "cell_type": "code",
   "execution_count": null,
   "metadata": {},
   "outputs": [],
   "source": []
  }
 ],
 "metadata": {
  "kernelspec": {
   "display_name": "Python 3",
   "language": "python",
   "name": "python3"
  },
  "language_info": {
   "codemirror_mode": {
    "name": "ipython",
    "version": 3
   },
   "file_extension": ".py",
   "mimetype": "text/x-python",
   "name": "python",
   "nbconvert_exporter": "python",
   "pygments_lexer": "ipython3",
   "version": "3.11.4"
  }
 },
 "nbformat": 4,
 "nbformat_minor": 2
}
